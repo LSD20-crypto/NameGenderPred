{
  "nbformat": 4,
  "nbformat_minor": 0,
  "metadata": {
    "colab": {
      "name": "NEP.ipynb",
      "provenance": [],
      "authorship_tag": "ABX9TyNbeiwR6OL4eRBiU1a2pTPS",
      "include_colab_link": true
    },
    "kernelspec": {
      "name": "python3",
      "display_name": "Python 3"
    }
  },
  "cells": [
    {
      "cell_type": "markdown",
      "metadata": {
        "id": "view-in-github",
        "colab_type": "text"
      },
      "source": [
        "<a href=\"https://colab.research.google.com/github/LSD20-crypto/NameGenderPred/blob/main/NEP.ipynb\" target=\"_parent\"><img src=\"https://colab.research.google.com/assets/colab-badge.svg\" alt=\"Open In Colab\"/></a>"
      ]
    },
    {
      "cell_type": "code",
      "metadata": {
        "id": "DBAJnk83N90V"
      },
      "source": [
        "import pandas as pd\n",
        "import numpy as np\n",
        "import matplotlib.pyplot as plt"
      ],
      "execution_count": null,
      "outputs": []
    },
    {
      "cell_type": "code",
      "metadata": {
        "id": "oycw4es4Oh7x"
      },
      "source": [
        "data = pd.read_csv(\"/content/NationalNames.csv.zip\")"
      ],
      "execution_count": null,
      "outputs": []
    },
    {
      "cell_type": "code",
      "metadata": {
        "colab": {
          "base_uri": "https://localhost:8080/",
          "height": 300
        },
        "id": "HRa-nDKvFOOb",
        "outputId": "8819bee7-af1a-4d50-ba03-c1d65f740c88"
      },
      "source": [
        "data.describe()"
      ],
      "execution_count": null,
      "outputs": [
        {
          "output_type": "execute_result",
          "data": {
            "text/html": [
              "<div>\n",
              "<style scoped>\n",
              "    .dataframe tbody tr th:only-of-type {\n",
              "        vertical-align: middle;\n",
              "    }\n",
              "\n",
              "    .dataframe tbody tr th {\n",
              "        vertical-align: top;\n",
              "    }\n",
              "\n",
              "    .dataframe thead th {\n",
              "        text-align: right;\n",
              "    }\n",
              "</style>\n",
              "<table border=\"1\" class=\"dataframe\">\n",
              "  <thead>\n",
              "    <tr style=\"text-align: right;\">\n",
              "      <th></th>\n",
              "      <th>Id</th>\n",
              "      <th>Year</th>\n",
              "      <th>Count</th>\n",
              "    </tr>\n",
              "  </thead>\n",
              "  <tbody>\n",
              "    <tr>\n",
              "      <th>count</th>\n",
              "      <td>1.825433e+06</td>\n",
              "      <td>1.825433e+06</td>\n",
              "      <td>1.825433e+06</td>\n",
              "    </tr>\n",
              "    <tr>\n",
              "      <th>mean</th>\n",
              "      <td>9.127170e+05</td>\n",
              "      <td>1.972620e+03</td>\n",
              "      <td>1.846879e+02</td>\n",
              "    </tr>\n",
              "    <tr>\n",
              "      <th>std</th>\n",
              "      <td>5.269573e+05</td>\n",
              "      <td>3.352891e+01</td>\n",
              "      <td>1.566711e+03</td>\n",
              "    </tr>\n",
              "    <tr>\n",
              "      <th>min</th>\n",
              "      <td>1.000000e+00</td>\n",
              "      <td>1.880000e+03</td>\n",
              "      <td>5.000000e+00</td>\n",
              "    </tr>\n",
              "    <tr>\n",
              "      <th>25%</th>\n",
              "      <td>4.563590e+05</td>\n",
              "      <td>1.949000e+03</td>\n",
              "      <td>7.000000e+00</td>\n",
              "    </tr>\n",
              "    <tr>\n",
              "      <th>50%</th>\n",
              "      <td>9.127170e+05</td>\n",
              "      <td>1.982000e+03</td>\n",
              "      <td>1.200000e+01</td>\n",
              "    </tr>\n",
              "    <tr>\n",
              "      <th>75%</th>\n",
              "      <td>1.369075e+06</td>\n",
              "      <td>2.001000e+03</td>\n",
              "      <td>3.200000e+01</td>\n",
              "    </tr>\n",
              "    <tr>\n",
              "      <th>max</th>\n",
              "      <td>1.825433e+06</td>\n",
              "      <td>2.014000e+03</td>\n",
              "      <td>9.968000e+04</td>\n",
              "    </tr>\n",
              "  </tbody>\n",
              "</table>\n",
              "</div>"
            ],
            "text/plain": [
              "                 Id          Year         Count\n",
              "count  1.825433e+06  1.825433e+06  1.825433e+06\n",
              "mean   9.127170e+05  1.972620e+03  1.846879e+02\n",
              "std    5.269573e+05  3.352891e+01  1.566711e+03\n",
              "min    1.000000e+00  1.880000e+03  5.000000e+00\n",
              "25%    4.563590e+05  1.949000e+03  7.000000e+00\n",
              "50%    9.127170e+05  1.982000e+03  1.200000e+01\n",
              "75%    1.369075e+06  2.001000e+03  3.200000e+01\n",
              "max    1.825433e+06  2.014000e+03  9.968000e+04"
            ]
          },
          "metadata": {},
          "execution_count": 3
        }
      ]
    },
    {
      "cell_type": "code",
      "metadata": {
        "colab": {
          "base_uri": "https://localhost:8080/"
        },
        "id": "Yqqke1gROjX5",
        "outputId": "99f51ad5-2573-4afa-a611-be8a26c6dd6d"
      },
      "source": [
        "data.shape"
      ],
      "execution_count": null,
      "outputs": [
        {
          "output_type": "execute_result",
          "data": {
            "text/plain": [
              "(1825433, 5)"
            ]
          },
          "metadata": {},
          "execution_count": 4
        }
      ]
    },
    {
      "cell_type": "code",
      "metadata": {
        "colab": {
          "base_uri": "https://localhost:8080/",
          "height": 143
        },
        "id": "VE6fyb6PETNn",
        "outputId": "722cba3d-5227-44cb-e5bd-db7f603be44d"
      },
      "source": [
        "data.corr()"
      ],
      "execution_count": null,
      "outputs": [
        {
          "output_type": "execute_result",
          "data": {
            "text/html": [
              "<div>\n",
              "<style scoped>\n",
              "    .dataframe tbody tr th:only-of-type {\n",
              "        vertical-align: middle;\n",
              "    }\n",
              "\n",
              "    .dataframe tbody tr th {\n",
              "        vertical-align: top;\n",
              "    }\n",
              "\n",
              "    .dataframe thead th {\n",
              "        text-align: right;\n",
              "    }\n",
              "</style>\n",
              "<table border=\"1\" class=\"dataframe\">\n",
              "  <thead>\n",
              "    <tr style=\"text-align: right;\">\n",
              "      <th></th>\n",
              "      <th>Id</th>\n",
              "      <th>Year</th>\n",
              "      <th>Count</th>\n",
              "    </tr>\n",
              "  </thead>\n",
              "  <tbody>\n",
              "    <tr>\n",
              "      <th>Id</th>\n",
              "      <td>1.000000</td>\n",
              "      <td>0.963427</td>\n",
              "      <td>-0.029869</td>\n",
              "    </tr>\n",
              "    <tr>\n",
              "      <th>Year</th>\n",
              "      <td>0.963427</td>\n",
              "      <td>1.000000</td>\n",
              "      <td>-0.022046</td>\n",
              "    </tr>\n",
              "    <tr>\n",
              "      <th>Count</th>\n",
              "      <td>-0.029869</td>\n",
              "      <td>-0.022046</td>\n",
              "      <td>1.000000</td>\n",
              "    </tr>\n",
              "  </tbody>\n",
              "</table>\n",
              "</div>"
            ],
            "text/plain": [
              "             Id      Year     Count\n",
              "Id     1.000000  0.963427 -0.029869\n",
              "Year   0.963427  1.000000 -0.022046\n",
              "Count -0.029869 -0.022046  1.000000"
            ]
          },
          "metadata": {},
          "execution_count": 5
        }
      ]
    },
    {
      "cell_type": "code",
      "metadata": {
        "colab": {
          "base_uri": "https://localhost:8080/",
          "height": 424
        },
        "id": "tHOAsj0aOjqX",
        "outputId": "24539ada-31b7-4464-e73e-f189bbfea4ab"
      },
      "source": [
        "data.head(1000)"
      ],
      "execution_count": null,
      "outputs": [
        {
          "output_type": "execute_result",
          "data": {
            "text/html": [
              "<div>\n",
              "<style scoped>\n",
              "    .dataframe tbody tr th:only-of-type {\n",
              "        vertical-align: middle;\n",
              "    }\n",
              "\n",
              "    .dataframe tbody tr th {\n",
              "        vertical-align: top;\n",
              "    }\n",
              "\n",
              "    .dataframe thead th {\n",
              "        text-align: right;\n",
              "    }\n",
              "</style>\n",
              "<table border=\"1\" class=\"dataframe\">\n",
              "  <thead>\n",
              "    <tr style=\"text-align: right;\">\n",
              "      <th></th>\n",
              "      <th>Id</th>\n",
              "      <th>Name</th>\n",
              "      <th>Year</th>\n",
              "      <th>Gender</th>\n",
              "      <th>Count</th>\n",
              "    </tr>\n",
              "  </thead>\n",
              "  <tbody>\n",
              "    <tr>\n",
              "      <th>0</th>\n",
              "      <td>1</td>\n",
              "      <td>Mary</td>\n",
              "      <td>1880</td>\n",
              "      <td>F</td>\n",
              "      <td>7065</td>\n",
              "    </tr>\n",
              "    <tr>\n",
              "      <th>1</th>\n",
              "      <td>2</td>\n",
              "      <td>Anna</td>\n",
              "      <td>1880</td>\n",
              "      <td>F</td>\n",
              "      <td>2604</td>\n",
              "    </tr>\n",
              "    <tr>\n",
              "      <th>2</th>\n",
              "      <td>3</td>\n",
              "      <td>Emma</td>\n",
              "      <td>1880</td>\n",
              "      <td>F</td>\n",
              "      <td>2003</td>\n",
              "    </tr>\n",
              "    <tr>\n",
              "      <th>3</th>\n",
              "      <td>4</td>\n",
              "      <td>Elizabeth</td>\n",
              "      <td>1880</td>\n",
              "      <td>F</td>\n",
              "      <td>1939</td>\n",
              "    </tr>\n",
              "    <tr>\n",
              "      <th>4</th>\n",
              "      <td>5</td>\n",
              "      <td>Minnie</td>\n",
              "      <td>1880</td>\n",
              "      <td>F</td>\n",
              "      <td>1746</td>\n",
              "    </tr>\n",
              "    <tr>\n",
              "      <th>...</th>\n",
              "      <td>...</td>\n",
              "      <td>...</td>\n",
              "      <td>...</td>\n",
              "      <td>...</td>\n",
              "      <td>...</td>\n",
              "    </tr>\n",
              "    <tr>\n",
              "      <th>995</th>\n",
              "      <td>996</td>\n",
              "      <td>Ralph</td>\n",
              "      <td>1880</td>\n",
              "      <td>M</td>\n",
              "      <td>317</td>\n",
              "    </tr>\n",
              "    <tr>\n",
              "      <th>996</th>\n",
              "      <td>997</td>\n",
              "      <td>Ed</td>\n",
              "      <td>1880</td>\n",
              "      <td>M</td>\n",
              "      <td>310</td>\n",
              "    </tr>\n",
              "    <tr>\n",
              "      <th>997</th>\n",
              "      <td>998</td>\n",
              "      <td>Claude</td>\n",
              "      <td>1880</td>\n",
              "      <td>M</td>\n",
              "      <td>309</td>\n",
              "    </tr>\n",
              "    <tr>\n",
              "      <th>998</th>\n",
              "      <td>999</td>\n",
              "      <td>Edwin</td>\n",
              "      <td>1880</td>\n",
              "      <td>M</td>\n",
              "      <td>309</td>\n",
              "    </tr>\n",
              "    <tr>\n",
              "      <th>999</th>\n",
              "      <td>1000</td>\n",
              "      <td>Ben</td>\n",
              "      <td>1880</td>\n",
              "      <td>M</td>\n",
              "      <td>305</td>\n",
              "    </tr>\n",
              "  </tbody>\n",
              "</table>\n",
              "<p>1000 rows × 5 columns</p>\n",
              "</div>"
            ],
            "text/plain": [
              "       Id       Name  Year Gender  Count\n",
              "0       1       Mary  1880      F   7065\n",
              "1       2       Anna  1880      F   2604\n",
              "2       3       Emma  1880      F   2003\n",
              "3       4  Elizabeth  1880      F   1939\n",
              "4       5     Minnie  1880      F   1746\n",
              "..    ...        ...   ...    ...    ...\n",
              "995   996      Ralph  1880      M    317\n",
              "996   997         Ed  1880      M    310\n",
              "997   998     Claude  1880      M    309\n",
              "998   999      Edwin  1880      M    309\n",
              "999  1000        Ben  1880      M    305\n",
              "\n",
              "[1000 rows x 5 columns]"
            ]
          },
          "metadata": {},
          "execution_count": 6
        }
      ]
    },
    {
      "cell_type": "code",
      "metadata": {
        "colab": {
          "base_uri": "https://localhost:8080/"
        },
        "id": "Q4xPotGWOj5A",
        "outputId": "e4f41cd9-7236-47da-a12e-2ff9f84cb20f"
      },
      "source": [
        "data['Name'].nunique()"
      ],
      "execution_count": null,
      "outputs": [
        {
          "output_type": "execute_result",
          "data": {
            "text/plain": [
              "93889"
            ]
          },
          "metadata": {},
          "execution_count": 7
        }
      ]
    },
    {
      "cell_type": "code",
      "metadata": {
        "id": "TAf2PLW5Okk7"
      },
      "source": [
        "data['Gender']=data['Gender'].astype('category').cat.codes"
      ],
      "execution_count": null,
      "outputs": []
    },
    {
      "cell_type": "code",
      "metadata": {
        "colab": {
          "base_uri": "https://localhost:8080/",
          "height": 206
        },
        "id": "PI0d1JnDOlQ-",
        "outputId": "15a531b1-8099-4bd4-c2b7-3b5f5aadf66b"
      },
      "source": [
        "df=data.groupby('Name').mean()['Gender'].reset_index()\n",
        "df['Gender'] = df['Gender'].astype('int')\n",
        "df.head(5)"
      ],
      "execution_count": null,
      "outputs": [
        {
          "output_type": "execute_result",
          "data": {
            "text/html": [
              "<div>\n",
              "<style scoped>\n",
              "    .dataframe tbody tr th:only-of-type {\n",
              "        vertical-align: middle;\n",
              "    }\n",
              "\n",
              "    .dataframe tbody tr th {\n",
              "        vertical-align: top;\n",
              "    }\n",
              "\n",
              "    .dataframe thead th {\n",
              "        text-align: right;\n",
              "    }\n",
              "</style>\n",
              "<table border=\"1\" class=\"dataframe\">\n",
              "  <thead>\n",
              "    <tr style=\"text-align: right;\">\n",
              "      <th></th>\n",
              "      <th>Name</th>\n",
              "      <th>Gender</th>\n",
              "    </tr>\n",
              "  </thead>\n",
              "  <tbody>\n",
              "    <tr>\n",
              "      <th>0</th>\n",
              "      <td>Aaban</td>\n",
              "      <td>1</td>\n",
              "    </tr>\n",
              "    <tr>\n",
              "      <th>1</th>\n",
              "      <td>Aabha</td>\n",
              "      <td>0</td>\n",
              "    </tr>\n",
              "    <tr>\n",
              "      <th>2</th>\n",
              "      <td>Aabid</td>\n",
              "      <td>1</td>\n",
              "    </tr>\n",
              "    <tr>\n",
              "      <th>3</th>\n",
              "      <td>Aabriella</td>\n",
              "      <td>0</td>\n",
              "    </tr>\n",
              "    <tr>\n",
              "      <th>4</th>\n",
              "      <td>Aadam</td>\n",
              "      <td>1</td>\n",
              "    </tr>\n",
              "  </tbody>\n",
              "</table>\n",
              "</div>"
            ],
            "text/plain": [
              "        Name  Gender\n",
              "0      Aaban       1\n",
              "1      Aabha       0\n",
              "2      Aabid       1\n",
              "3  Aabriella       0\n",
              "4      Aadam       1"
            ]
          },
          "metadata": {},
          "execution_count": 9
        }
      ]
    },
    {
      "cell_type": "code",
      "metadata": {
        "colab": {
          "base_uri": "https://localhost:8080/"
        },
        "id": "syGTEG6FSNcE",
        "outputId": "9dfdc6e6-8ad6-4cde-880b-4d4ef964c4ad"
      },
      "source": [
        "import string\n",
        "letters = list(string.ascii_lowercase)\n",
        "letters"
      ],
      "execution_count": null,
      "outputs": [
        {
          "output_type": "execute_result",
          "data": {
            "text/plain": [
              "['a',\n",
              " 'b',\n",
              " 'c',\n",
              " 'd',\n",
              " 'e',\n",
              " 'f',\n",
              " 'g',\n",
              " 'h',\n",
              " 'i',\n",
              " 'j',\n",
              " 'k',\n",
              " 'l',\n",
              " 'm',\n",
              " 'n',\n",
              " 'o',\n",
              " 'p',\n",
              " 'q',\n",
              " 'r',\n",
              " 's',\n",
              " 't',\n",
              " 'u',\n",
              " 'v',\n",
              " 'w',\n",
              " 'x',\n",
              " 'y',\n",
              " 'z']"
            ]
          },
          "metadata": {},
          "execution_count": 10
        }
      ]
    },
    {
      "cell_type": "code",
      "metadata": {
        "colab": {
          "base_uri": "https://localhost:8080/"
        },
        "id": "K15oF63pSNYm",
        "outputId": "5c3b9bae-8886-4319-843f-6c0ca149e4e5"
      },
      "source": [
        "vocab = dict(zip(letters, range(1,27),))\n",
        "vocab"
      ],
      "execution_count": null,
      "outputs": [
        {
          "output_type": "execute_result",
          "data": {
            "text/plain": [
              "{'a': 1,\n",
              " 'b': 2,\n",
              " 'c': 3,\n",
              " 'd': 4,\n",
              " 'e': 5,\n",
              " 'f': 6,\n",
              " 'g': 7,\n",
              " 'h': 8,\n",
              " 'i': 9,\n",
              " 'j': 10,\n",
              " 'k': 11,\n",
              " 'l': 12,\n",
              " 'm': 13,\n",
              " 'n': 14,\n",
              " 'o': 15,\n",
              " 'p': 16,\n",
              " 'q': 17,\n",
              " 'r': 18,\n",
              " 's': 19,\n",
              " 't': 20,\n",
              " 'u': 21,\n",
              " 'v': 22,\n",
              " 'w': 23,\n",
              " 'x': 24,\n",
              " 'y': 25,\n",
              " 'z': 26}"
            ]
          },
          "metadata": {},
          "execution_count": 11
        }
      ]
    },
    {
      "cell_type": "code",
      "metadata": {
        "id": "PUT7Y4XZSNVS"
      },
      "source": [
        "def word_to_number():\n",
        "  for i in range(0,df.shape[0]):\n",
        "    seq = [vocab[letters.lower()] for letters in df['Name'][i]]\n",
        "    df['Name'][i]= seq\n"
      ],
      "execution_count": null,
      "outputs": []
    },
    {
      "cell_type": "code",
      "metadata": {
        "colab": {
          "base_uri": "https://localhost:8080/"
        },
        "id": "iKIQSitcSNSb",
        "outputId": "6d760b3c-c86f-48c2-dc8a-d6deb0b5c474"
      },
      "source": [
        "word_to_number()"
      ],
      "execution_count": null,
      "outputs": [
        {
          "output_type": "stream",
          "name": "stderr",
          "text": [
            "/usr/local/lib/python3.7/dist-packages/ipykernel_launcher.py:4: SettingWithCopyWarning: \n",
            "A value is trying to be set on a copy of a slice from a DataFrame\n",
            "\n",
            "See the caveats in the documentation: https://pandas.pydata.org/pandas-docs/stable/user_guide/indexing.html#returning-a-view-versus-a-copy\n",
            "  after removing the cwd from sys.path.\n"
          ]
        }
      ]
    },
    {
      "cell_type": "code",
      "metadata": {
        "colab": {
          "base_uri": "https://localhost:8080/",
          "height": 206
        },
        "id": "TPq0TrbPSNPJ",
        "outputId": "5e983888-dfa2-4b20-e3af-4226054a1c80"
      },
      "source": [
        "df.head()"
      ],
      "execution_count": null,
      "outputs": [
        {
          "output_type": "execute_result",
          "data": {
            "text/html": [
              "<div>\n",
              "<style scoped>\n",
              "    .dataframe tbody tr th:only-of-type {\n",
              "        vertical-align: middle;\n",
              "    }\n",
              "\n",
              "    .dataframe tbody tr th {\n",
              "        vertical-align: top;\n",
              "    }\n",
              "\n",
              "    .dataframe thead th {\n",
              "        text-align: right;\n",
              "    }\n",
              "</style>\n",
              "<table border=\"1\" class=\"dataframe\">\n",
              "  <thead>\n",
              "    <tr style=\"text-align: right;\">\n",
              "      <th></th>\n",
              "      <th>Name</th>\n",
              "      <th>Gender</th>\n",
              "    </tr>\n",
              "  </thead>\n",
              "  <tbody>\n",
              "    <tr>\n",
              "      <th>0</th>\n",
              "      <td>[1, 1, 2, 1, 14]</td>\n",
              "      <td>1</td>\n",
              "    </tr>\n",
              "    <tr>\n",
              "      <th>1</th>\n",
              "      <td>[1, 1, 2, 8, 1]</td>\n",
              "      <td>0</td>\n",
              "    </tr>\n",
              "    <tr>\n",
              "      <th>2</th>\n",
              "      <td>[1, 1, 2, 9, 4]</td>\n",
              "      <td>1</td>\n",
              "    </tr>\n",
              "    <tr>\n",
              "      <th>3</th>\n",
              "      <td>[1, 1, 2, 18, 9, 5, 12, 12, 1]</td>\n",
              "      <td>0</td>\n",
              "    </tr>\n",
              "    <tr>\n",
              "      <th>4</th>\n",
              "      <td>[1, 1, 4, 1, 13]</td>\n",
              "      <td>1</td>\n",
              "    </tr>\n",
              "  </tbody>\n",
              "</table>\n",
              "</div>"
            ],
            "text/plain": [
              "                             Name  Gender\n",
              "0                [1, 1, 2, 1, 14]       1\n",
              "1                 [1, 1, 2, 8, 1]       0\n",
              "2                 [1, 1, 2, 9, 4]       1\n",
              "3  [1, 1, 2, 18, 9, 5, 12, 12, 1]       0\n",
              "4                [1, 1, 4, 1, 13]       1"
            ]
          },
          "metadata": {},
          "execution_count": 14
        }
      ]
    },
    {
      "cell_type": "code",
      "metadata": {
        "id": "1Sk7q31VSNMK"
      },
      "source": [
        "X = df['Name'].values\n",
        "y = df['Gender'].values"
      ],
      "execution_count": null,
      "outputs": []
    },
    {
      "cell_type": "code",
      "metadata": {
        "id": "Cr2_tEZoSNI-"
      },
      "source": [
        "name_length = [len(X[i]) for i in range (0, df.shape[0])]"
      ],
      "execution_count": null,
      "outputs": []
    },
    {
      "cell_type": "code",
      "metadata": {
        "colab": {
          "base_uri": "https://localhost:8080/",
          "height": 265
        },
        "id": "_ga75-TCSNCQ",
        "outputId": "cb29b00f-25c6-456e-8961-3e51afad2787"
      },
      "source": [
        "plt.hist(name_length, bins= 20)\n",
        "plt.show()"
      ],
      "execution_count": null,
      "outputs": [
        {
          "output_type": "display_data",
          "data": {
            "image/png": "[encoded data removed]",
            "text/plain": [
              "<Figure size 432x288 with 1 Axes>"
            ]
          },
          "metadata": {
            "needs_background": "light"
          }
        }
      ]
    },
    {
      "cell_type": "code",
      "metadata": {
        "id": "38Q7R5E89TP_"
      },
      "source": [
        "from keras.preprocessing.sequence import pad_sequences\n",
        "x = pad_sequences(df['Name'].values, maxlen= 10, padding='pre')"
      ],
      "execution_count": null,
      "outputs": []
    },
    {
      "cell_type": "code",
      "metadata": {
        "colab": {
          "base_uri": "https://localhost:8080/"
        },
        "id": "B_lTLiTd9TIM",
        "outputId": "3c2a5f96-194f-46c2-8b33-11cd5d10ca88"
      },
      "source": [
        "x"
      ],
      "execution_count": null,
      "outputs": [
        {
          "output_type": "execute_result",
          "data": {
            "text/plain": [
              "array([[ 0,  0,  0, ...,  2,  1, 14],\n",
              "       [ 0,  0,  0, ...,  2,  8,  1],\n",
              "       [ 0,  0,  0, ...,  2,  9,  4],\n",
              "       ...,\n",
              "       [ 0,  0,  0, ..., 14, 14,  1],\n",
              "       [ 0,  0,  0, ..., 25, 15, 14],\n",
              "       [ 0,  0,  0, ..., 25, 26, 24]], dtype=int32)"
            ]
          },
          "metadata": {},
          "execution_count": 19
        }
      ]
    },
    {
      "cell_type": "code",
      "metadata": {
        "id": "qeeX_6XY9TEU"
      },
      "source": [
        "from keras.layers import Input, Embedding, Dense, LSTM \n",
        "from keras.models import Model"
      ],
      "execution_count": null,
      "outputs": []
    },
    {
      "cell_type": "code",
      "metadata": {
        "colab": {
          "base_uri": "https://localhost:8080/"
        },
        "id": "kHWxiLOGWqnD",
        "outputId": "854d63c9-f3f9-474f-b462-ae91b8f0b672"
      },
      "source": [
        "vocab_size = len(vocab)+1\n",
        "vocab_size"
      ],
      "execution_count": null,
      "outputs": [
        {
          "output_type": "execute_result",
          "data": {
            "text/plain": [
              "27"
            ]
          },
          "metadata": {},
          "execution_count": 21
        }
      ]
    },
    {
      "cell_type": "code",
      "metadata": {
        "id": "pmP-_-QK9TAp"
      },
      "source": [
        "inp = Input(shape=(10,))\n",
        "emn = Embedding(input_dim= vocab_size, output_dim=5)(inp)\n",
        "\n",
        "lstm1= LSTM(units=32, return_sequences=True)(emn)\n",
        "lstm2= LSTM(units=64)(lstm1)\n",
        "\n",
        "out = Dense(units=1 , activation='sigmoid')(lstm2)\n",
        "\n",
        "\n",
        "my_model = Model(inputs = inp , outputs = out)"
      ],
      "execution_count": null,
      "outputs": []
    },
    {
      "cell_type": "code",
      "metadata": {
        "colab": {
          "base_uri": "https://localhost:8080/"
        },
        "id": "EAI5xGly9S89",
        "outputId": "6f4c1cc9-50c4-4e79-f436-4c5a48ce2b23"
      },
      "source": [
        "my_model.summary()"
      ],
      "execution_count": null,
      "outputs": [
        {
          "output_type": "stream",
          "name": "stdout",
          "text": [
            "Model: \"model\"\n",
            "_________________________________________________________________\n",
            " Layer (type)                Output Shape              Param #   \n",
            "=================================================================\n",
            " input_1 (InputLayer)        [(None, 10)]              0         \n",
            "                                                                 \n",
            " embedding (Embedding)       (None, 10, 5)             135       \n",
            "                                                                 \n",
            " lstm (LSTM)                 (None, 10, 32)            4864      \n",
            "                                                                 \n",
            " lstm_1 (LSTM)               (None, 64)                24832     \n",
            "                                                                 \n",
            " dense (Dense)               (None, 1)                 65        \n",
            "                                                                 \n",
            "=================================================================\n",
            "Total params: 29,896\n",
            "Trainable params: 29,896\n",
            "Non-trainable params: 0\n",
            "_________________________________________________________________\n"
          ]
        }
      ]
    },
    {
      "cell_type": "code",
      "metadata": {
        "id": "P9wCQYJ49Szn"
      },
      "source": [
        "my_model.compile(optimizer='adam', loss ='binary_crossentropy', metrics=['acc'])"
      ],
      "execution_count": null,
      "outputs": []
    },
    {
      "cell_type": "code",
      "metadata": {
        "colab": {
          "base_uri": "https://localhost:8080/"
        },
        "id": "1W0RB54saKp7",
        "outputId": "e24bb207-f33f-4199-883f-9f29595a2121"
      },
      "source": [
        "his = my_model.fit(x,y, epochs=10, batch_size= 256, validation_split=0.2)"
      ],
      "execution_count": null,
      "outputs": [
        {
          "output_type": "stream",
          "name": "stdout",
          "text": [
            "Epoch 1/10\n",
            "294/294 [==============================] - 17s 43ms/step - loss: 0.5486 - acc: 0.7230 - val_loss: 0.4110 - val_acc: 0.8070\n",
            "Epoch 2/10\n",
            "294/294 [==============================] - 12s 39ms/step - loss: 0.4131 - acc: 0.8038 - val_loss: 0.3917 - val_acc: 0.8202\n",
            "Epoch 3/10\n",
            "294/294 [==============================] - 12s 39ms/step - loss: 0.3956 - acc: 0.8140 - val_loss: 0.3867 - val_acc: 0.8237\n",
            "Epoch 4/10\n",
            "294/294 [==============================] - 11s 39ms/step - loss: 0.3910 - acc: 0.8167 - val_loss: 0.3874 - val_acc: 0.8221\n",
            "Epoch 5/10\n",
            "294/294 [==============================] - 12s 39ms/step - loss: 0.3882 - acc: 0.8175 - val_loss: 0.3844 - val_acc: 0.8241\n",
            "Epoch 6/10\n",
            "294/294 [==============================] - 12s 39ms/step - loss: 0.3857 - acc: 0.8194 - val_loss: 0.3815 - val_acc: 0.8237\n",
            "Epoch 7/10\n",
            "294/294 [==============================] - 12s 39ms/step - loss: 0.3825 - acc: 0.8199 - val_loss: 0.3772 - val_acc: 0.8268\n",
            "Epoch 8/10\n",
            "294/294 [==============================] - 12s 39ms/step - loss: 0.3780 - acc: 0.8239 - val_loss: 0.3727 - val_acc: 0.8303\n",
            "Epoch 9/10\n",
            "294/294 [==============================] - 12s 39ms/step - loss: 0.3728 - acc: 0.8264 - val_loss: 0.3679 - val_acc: 0.8318\n",
            "Epoch 10/10\n",
            "294/294 [==============================] - 12s 39ms/step - loss: 0.3686 - acc: 0.8282 - val_loss: 0.3704 - val_acc: 0.8303\n"
          ]
        }
      ]
    },
    {
      "cell_type": "code",
      "metadata": {
        "id": "wz8yX4O8aKZt"
      },
      "source": [
        "h = his.history"
      ],
      "execution_count": null,
      "outputs": []
    },
    {
      "cell_type": "code",
      "metadata": {
        "colab": {
          "base_uri": "https://localhost:8080/",
          "height": 265
        },
        "id": "HKTqLREta0KB",
        "outputId": "658c3d26-463d-493e-b1a9-5169a9b99d83"
      },
      "source": [
        "plt.plot(h['acc'])\n",
        "plt.plot(h['val_acc'])\n",
        "plt.show()"
      ],
      "execution_count": null,
      "outputs": [
        {
          "output_type": "display_data",
          "data": {
            "image/png": "[encoded data removed]",
            "text/plain": [
              "<Figure size 432x288 with 1 Axes>"
            ]
          },
          "metadata": {
            "needs_background": "light"
          }
        }
      ]
    },
    {
      "cell_type": "code",
      "metadata": {
        "colab": {
          "base_uri": "https://localhost:8080/"
        },
        "id": "h25LGB2_a0Gc",
        "outputId": "611355f9-6093-46dc-e399-4bccb58445e1"
      },
      "source": [
        "name =\"\"\n",
        "test_name = name.lower()\n",
        "seq = [vocab[i] for i in test_name]\n",
        "\n",
        "x_test = pad_sequences([seq],10)\n",
        "x_test"
      ],
      "execution_count": null,
      "outputs": [
        {
          "output_type": "execute_result",
          "data": {
            "text/plain": [
              "array([[ 0,  0,  0,  0,  0, 10,  5, 18, 18, 25]], dtype=int32)"
            ]
          },
          "metadata": {},
          "execution_count": 61
        }
      ]
    },
    {
      "cell_type": "code",
      "metadata": {
        "id": "M3avVuFda0Dh"
      },
      "source": [
        "y_pred = my_model.predict(x_test)\n"
      ],
      "execution_count": null,
      "outputs": []
    },
    {
      "cell_type": "code",
      "metadata": {
        "colab": {
          "base_uri": "https://localhost:8080/"
        },
        "id": "R2WplvMra0Aj",
        "outputId": "b7532803-5ac7-4cf4-c5e4-c603cf1f2dfa"
      },
      "source": [
        "if y_pred < 0.5:\n",
        "  print('Female')\n",
        "else:\n",
        "  print('Male')"
      ],
      "execution_count": null,
      "outputs": [
        {
          "output_type": "stream",
          "name": "stdout",
          "text": [
            "Female\n"
          ]
        }
      ]
    },
    {
      "cell_type": "code",
      "metadata": {
        "id": "R_186Ve9az9g"
      },
      "source": [
        ""
      ],
      "execution_count": null,
      "outputs": []
    }
  ]
}